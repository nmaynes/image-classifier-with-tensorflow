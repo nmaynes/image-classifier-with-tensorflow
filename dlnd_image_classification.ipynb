{
 "cells": [
  {
   "cell_type": "markdown",
   "metadata": {
    "collapsed": true
   },
   "source": [
    "# Image Classification\n",
    "In this project, you'll classify images from the [CIFAR-10 dataset](https://www.cs.toronto.edu/~kriz/cifar.html).  The dataset consists of airplanes, dogs, cats, and other objects. You'll preprocess the images, then train a convolutional neural network on all the samples. The images need to be normalized and the labels need to be one-hot encoded.  You'll get to apply what you learned and build a convolutional, max pooling, dropout, and fully connected layers.  At the end, you'll get to see your neural network's predictions on the sample images.\n",
    "## Get the Data\n",
    "Run the following cell to download the [CIFAR-10 dataset for python](https://www.cs.toronto.edu/~kriz/cifar-10-python.tar.gz)."
   ]
  },
  {
   "cell_type": "code",
   "execution_count": 1,
   "metadata": {
    "collapsed": false
   },
   "outputs": [
    {
     "name": "stdout",
     "output_type": "stream",
     "text": [
      "All files found!\n"
     ]
    }
   ],
   "source": [
    "\"\"\"\n",
    "DON'T MODIFY ANYTHING IN THIS CELL THAT IS BELOW THIS LINE\n",
    "\"\"\"\n",
    "from urllib.request import urlretrieve\n",
    "from os.path import isfile, isdir\n",
    "from tqdm import tqdm\n",
    "import problem_unittests as tests\n",
    "import tarfile\n",
    "\n",
    "cifar10_dataset_folder_path = 'cifar-10-batches-py'\n",
    "\n",
    "class DLProgress(tqdm):\n",
    "    last_block = 0\n",
    "\n",
    "    def hook(self, block_num=1, block_size=1, total_size=None):\n",
    "        self.total = total_size\n",
    "        self.update((block_num - self.last_block) * block_size)\n",
    "        self.last_block = block_num\n",
    "\n",
    "if not isfile('cifar-10-python.tar.gz'):\n",
    "    with DLProgress(unit='B', unit_scale=True, miniters=1, desc='CIFAR-10 Dataset') as pbar:\n",
    "        urlretrieve(\n",
    "            'https://www.cs.toronto.edu/~kriz/cifar-10-python.tar.gz',\n",
    "            'cifar-10-python.tar.gz',\n",
    "            pbar.hook)\n",
    "\n",
    "if not isdir(cifar10_dataset_folder_path):\n",
    "    with tarfile.open('cifar-10-python.tar.gz') as tar:\n",
    "        tar.extractall()\n",
    "        tar.close()\n",
    "\n",
    "\n",
    "tests.test_folder_path(cifar10_dataset_folder_path)"
   ]
  },
  {
   "cell_type": "markdown",
   "metadata": {},
   "source": [
    "## Explore the Data\n",
    "The dataset is broken into batches to prevent your machine from running out of memory.  The CIFAR-10 dataset consists of 5 batches, named `data_batch_1`, `data_batch_2`, etc.. Each batch contains the labels and images that are one of the following:\n",
    "* airplane\n",
    "* automobile\n",
    "* bird\n",
    "* cat\n",
    "* deer\n",
    "* dog\n",
    "* frog\n",
    "* horse\n",
    "* ship\n",
    "* truck\n",
    "\n",
    "Understanding a dataset is part of making predictions on the data.  Play around with the code cell below by changing the `batch_id` and `sample_id`. The `batch_id` is the id for a batch (1-5). The `sample_id` is the id for a image and label pair in the batch.\n",
    "\n",
    "Ask yourself \"What are all possible labels?\", \"What is the range of values for the image data?\", \"Are the labels in order or random?\".  Answers to questions like these will help you preprocess the data and end up with better predictions."
   ]
  },
  {
   "cell_type": "markdown",
   "metadata": {},
   "source": [
    "### Dataset Notes\n",
    "The images are rendered in pixelated values. \n",
    "\n",
    "* Label 0 = Airplane\n",
    "* Label 1 = Automobile\n",
    "* Label 2 = Bird\n",
    "* Label 3 = Cat\n",
    "* Label 4 = Deer\n",
    "* Label 5 = Dog\n",
    "* Label 6 = Frog\n",
    "* Label 7 = Horse\n",
    "* Label 8 = Ship\n",
    "* Label 9 = Truck\n",
    "\n",
    "The batches are not sorted equally. The labels are mostly evenly distributed across all the batches. "
   ]
  },
  {
   "cell_type": "code",
   "execution_count": 2,
   "metadata": {
    "collapsed": false
   },
   "outputs": [
    {
     "name": "stdout",
     "output_type": "stream",
     "text": [
      "\n",
      "Stats of batch 2:\n",
      "Samples: 10000\n",
      "Label Counts: {0: 984, 1: 1007, 2: 1010, 3: 995, 4: 1010, 5: 988, 6: 1008, 7: 1026, 8: 987, 9: 985}\n",
      "First 20 Labels: [1, 6, 6, 8, 8, 3, 4, 6, 0, 6, 0, 3, 6, 6, 5, 4, 8, 3, 2, 6]\n",
      "\n",
      "Example of Image 8:\n",
      "Image - Min Value: 31 Max Value: 255\n",
      "Image - Shape: (32, 32, 3)\n",
      "Label - Label Id: 0 Name: airplane\n"
     ]
    }
   ],
   "source": [
    "##### %matplotlib inline\n",
    "%config InlineBackend.figure_format = 'retina'\n",
    "\n",
    "import helper\n",
    "import numpy as np\n",
    "\n",
    "# Explore the dataset\n",
    "batch_id = 2\n",
    "sample_id = 8\n",
    "helper.display_stats(cifar10_dataset_folder_path, batch_id, sample_id)"
   ]
  },
  {
   "cell_type": "markdown",
   "metadata": {},
   "source": [
    "## Implement Preprocess Functions\n",
    "### Normalize\n",
    "In the cell below, implement the `normalize` function to take in image data, `x`, and return it as a normalized Numpy array. The values should be in the range of 0 to 1, inclusive.  The return object should be the same shape as `x`."
   ]
  },
  {
   "cell_type": "code",
   "execution_count": 3,
   "metadata": {
    "collapsed": false
   },
   "outputs": [
    {
     "name": "stdout",
     "output_type": "stream",
     "text": [
      "Tests Passed\n"
     ]
    }
   ],
   "source": [
    "def normalize(x):\n",
    "    \"\"\"\n",
    "    Normalize a list of sample image data in the range of 0 to 1\n",
    "    : x: List of image data.  The image shape is (32, 32, 3)\n",
    "    : return: Numpy array of normalize data\n",
    "    : !!! Keep in mind broadcasting rules used by Numpy when working with Matrix values\n",
    "    \"\"\"\n",
    "    # TODO: Implement Function\n",
    "    normalized = x / np.amax(x, axis=0)\n",
    "    \n",
    "    return normalized\n",
    "\n",
    "\n",
    "\"\"\"\n",
    "DON'T MODIFY ANYTHING IN THIS CELL THAT IS BELOW THIS LINE\n",
    "\"\"\"\n",
    "tests.test_normalize(normalize)"
   ]
  },
  {
   "cell_type": "markdown",
   "metadata": {},
   "source": [
    "### One-hot encode\n",
    "Just like the previous code cell, you'll be implementing a function for preprocessing.  This time, you'll implement the `one_hot_encode` function. The input, `x`, are a list of labels.  Implement the function to return the list of labels as One-Hot encoded Numpy array.  The possible values for labels are 0 to 9. The one-hot encoding function should return the same encoding for each value between each call to `one_hot_encode`.  Make sure to save the map of encodings outside the function.\n",
    "\n",
    "Hint: Don't reinvent the wheel."
   ]
  },
  {
   "cell_type": "code",
   "execution_count": 4,
   "metadata": {
    "collapsed": false
   },
   "outputs": [
    {
     "name": "stdout",
     "output_type": "stream",
     "text": [
      "Tests Passed\n"
     ]
    }
   ],
   "source": [
    "# Import preprocessing utility from sklearn\n",
    "from sklearn import preprocessing\n",
    "\n",
    "lb = preprocessing.LabelBinarizer().fit_transform([i for i in range(10)])\n",
    "\n",
    "def one_hot_encode(x):\n",
    "    \"\"\"\n",
    "    One hot encode a list of sample labels. Return a one-hot encoded vector for each label.\n",
    "    : x: List of sample Labels\n",
    "    : return: Numpy array of one-hot encoded labels\n",
    "    \"\"\"\n",
    "    # TODO: Implement Function\n",
    "    # Create the encoder\n",
    "    # Here the encoder finds the classes and assigns one-hot vectors \n",
    "\n",
    "    return np.array([lb[i] for i in x])\n",
    "\n",
    "\n",
    "\"\"\"\n",
    "DON'T MODIFY ANYTHING IN THIS CELL THAT IS BELOW THIS LINE\n",
    "\"\"\"\n",
    "tests.test_one_hot_encode(one_hot_encode)"
   ]
  },
  {
   "cell_type": "markdown",
   "metadata": {},
   "source": [
    "### Randomize Data\n",
    "As you saw from exploring the data above, the order of the samples are randomized.  It doesn't hurt to randomize it again, but you don't need to for this dataset."
   ]
  },
  {
   "cell_type": "markdown",
   "metadata": {},
   "source": [
    "## Preprocess all the data and save it\n",
    "Running the code cell below will preprocess all the CIFAR-10 data and save it to file. The code below also uses 10% of the training data for validation."
   ]
  },
  {
   "cell_type": "code",
   "execution_count": 5,
   "metadata": {
    "collapsed": false
   },
   "outputs": [],
   "source": [
    "\"\"\"\n",
    "DON'T MODIFY ANYTHING IN THIS CELL\n",
    "\"\"\"\n",
    "# Preprocess Training, Validation, and Testing Data\n",
    "helper.preprocess_and_save_data(cifar10_dataset_folder_path, normalize, one_hot_encode)"
   ]
  },
  {
   "cell_type": "markdown",
   "metadata": {},
   "source": [
    "# Check Point\n",
    "This is your first checkpoint.  If you ever decide to come back to this notebook or have to restart the notebook, you can start from here.  The preprocessed data has been saved to disk."
   ]
  },
  {
   "cell_type": "code",
   "execution_count": 6,
   "metadata": {
    "collapsed": true
   },
   "outputs": [],
   "source": [
    "\"\"\"\n",
    "DON'T MODIFY ANYTHING IN THIS CELL\n",
    "\"\"\"\n",
    "import pickle\n",
    "import problem_unittests as tests\n",
    "import helper\n",
    "\n",
    "# Load the Preprocessed Validation data\n",
    "valid_features, valid_labels = pickle.load(open('preprocess_validation.p', mode='rb'))"
   ]
  },
  {
   "cell_type": "markdown",
   "metadata": {},
   "source": [
    "## Build the network\n",
    "For the neural network, you'll build each layer into a function.  Most of the code you've seen has been outside of functions. To test your code more thoroughly, we require that you put each layer in a function.  This allows us to give you better feedback and test for simple mistakes using our unittests before you submit your project.\n",
    "\n",
    "If you're finding it hard to dedicate enough time for this course a week, we've provided a small shortcut to this part of the project. In the next couple of problems, you'll have the option to use [TensorFlow Layers](https://www.tensorflow.org/api_docs/python/tf/layers) or [TensorFlow Layers (contrib)](https://www.tensorflow.org/api_guides/python/contrib.layers) to build each layer, except \"Convolutional & Max Pooling\" layer.  TF Layers is similar to Keras's and TFLearn's abstraction to layers, so it's easy to pickup.\n",
    "\n",
    "If you would like to get the most of this course, try to solve all the problems without TF Layers.  Let's begin!\n",
    "### Input\n",
    "The neural network needs to read the image data, one-hot encoded labels, and dropout keep probability. Implement the following functions\n",
    "* Implement `neural_net_image_input`\n",
    " * Return a [TF Placeholder](https://www.tensorflow.org/api_docs/python/tf/placeholder)\n",
    " * Set the shape using `image_shape` with batch size set to `None`.\n",
    " * Name the TensorFlow placeholder \"x\" using the TensorFlow `name` parameter in the [TF Placeholder](https://www.tensorflow.org/api_docs/python/tf/placeholder).\n",
    "* Implement `neural_net_label_input`\n",
    " * Return a [TF Placeholder](https://www.tensorflow.org/api_docs/python/tf/placeholder)\n",
    " * Set the shape using `n_classes` with batch size set to `None`.\n",
    " * Name the TensorFlow placeholder \"y\" using the TensorFlow `name` parameter in the [TF Placeholder](https://www.tensorflow.org/api_docs/python/tf/placeholder).\n",
    "* Implement `neural_net_keep_prob_input`\n",
    " * Return a [TF Placeholder](https://www.tensorflow.org/api_docs/python/tf/placeholder) for dropout keep probability.\n",
    " * Name the TensorFlow placeholder \"keep_prob\" using the TensorFlow `name` parameter in the [TF Placeholder](https://www.tensorflow.org/api_docs/python/tf/placeholder).\n",
    "\n",
    "These names will be used at the end of the project to load your saved model.\n",
    "\n",
    "Note: `None` for shapes in TensorFlow allow for a dynamic size."
   ]
  },
  {
   "cell_type": "code",
   "execution_count": 7,
   "metadata": {
    "collapsed": false
   },
   "outputs": [
    {
     "name": "stdout",
     "output_type": "stream",
     "text": [
      "Image Input Tests Passed.\n",
      "Label Input Tests Passed.\n",
      "Keep Prob Tests Passed.\n"
     ]
    }
   ],
   "source": [
    "import tensorflow as tf\n",
    "\n",
    "def neural_net_image_input(image_shape):\n",
    "    \"\"\"\n",
    "    Return a Tensor for a bach of image input\n",
    "    : image_shape: Shape of the images\n",
    "    : return: Tensor for image input.\n",
    "    \"\"\"\n",
    "    # TODO: Implement Function\n",
    "    return tf.placeholder(tf.float32, [None, 32,32,3], name='x')\n",
    "\n",
    "def neural_net_label_input(n_classes):\n",
    "    \"\"\"\n",
    "    Return a Tensor for a batch of label input\n",
    "    : n_classes: Number of classes\n",
    "    : return: Tensor for label input.\n",
    "    \"\"\"\n",
    "    # TODO: Implement Function\n",
    "    return tf.placeholder(tf.float32, [None, n_classes], name='y')\n",
    "\n",
    "\n",
    "def neural_net_keep_prob_input():\n",
    "    \"\"\"\n",
    "    Return a Tensor for keep probability\n",
    "    : return: Tensor for keep probability.\n",
    "    \"\"\"\n",
    "    # TODO: Implement Function\n",
    "    return tf.placeholder('float', name='keep_prob')\n",
    "\n",
    "\n",
    "\"\"\"\n",
    "DON'T MODIFY ANYTHING IN THIS CELL THAT IS BELOW THIS LINE\n",
    "\"\"\"\n",
    "tf.reset_default_graph()\n",
    "tests.test_nn_image_inputs(neural_net_image_input)\n",
    "tests.test_nn_label_inputs(neural_net_label_input)\n",
    "tests.test_nn_keep_prob_inputs(neural_net_keep_prob_input)"
   ]
  },
  {
   "cell_type": "markdown",
   "metadata": {},
   "source": [
    "### Convolution and Max Pooling Layer\n",
    "Convolution layers have a lot of success with images. For this code cell, you should implement the function `conv2d_maxpool` to apply convolution then max pooling:\n",
    "* Create the weight and bias using `conv_ksize`, `conv_num_outputs` and the shape of `x_tensor`.\n",
    "* Apply a convolution to `x_tensor` using weight and `conv_strides`.\n",
    " * We recommend you use same padding, but you're welcome to use any padding.\n",
    "* Add bias\n",
    "* Add a nonlinear activation to the convolution.\n",
    "* Apply Max Pooling using `pool_ksize` and `pool_strides`.\n",
    " * We recommend you use same padding, but you're welcome to use any padding.\n",
    "\n",
    "Note: You **can't** use [TensorFlow Layers](https://www.tensorflow.org/api_docs/python/tf/layers) or [TensorFlow Layers (contrib)](https://www.tensorflow.org/api_guides/python/contrib.layers) for this layer.  You're free to use any TensorFlow package for all the other layers."
   ]
  },
  {
   "cell_type": "code",
   "execution_count": 8,
   "metadata": {
    "collapsed": false
   },
   "outputs": [
    {
     "name": "stdout",
     "output_type": "stream",
     "text": [
      "Tests Passed\n"
     ]
    }
   ],
   "source": [
    "def conv2d_maxpool(x_tensor, conv_num_outputs, conv_ksize, conv_strides, pool_ksize, pool_strides):\n",
    "    \"\"\"\n",
    "    Apply convolution then max pooling to x_tensor\n",
    "    :param x_tensor: TensorFlow Tensor\n",
    "    :param conv_num_outputs: Number of outputs for the convolutional layer\n",
    "    :param conv_strides: Stride 2-D Tuple for convolution\n",
    "    :param pool_ksize: kernal size 2-D Tuple for pool\n",
    "    :param pool_strides: Stride 2-D Tuple for pool\n",
    "    : return: A tensor that represents convolution and max pooling of x_tensor\n",
    "    \"\"\"\n",
    "    # TODO: Implement Function\n",
    "    # Filter (weights and bias)\n",
    "    depth = x_tensor.get_shape().as_list()[-1]\n",
    "    F_W = tf.Variable(tf.truncated_normal([conv_ksize[0], conv_ksize[1], \n",
    "                                                            depth,\n",
    "                                                            conv_num_outputs], mean=0.0, stddev=0.1))\n",
    "    \n",
    "    F_b = tf.Variable(tf.zeros(conv_num_outputs))\n",
    "    x = tf.nn.conv2d(x_tensor, F_W, strides=[1, conv_strides[0], conv_strides[1], 1], padding='SAME')\n",
    "    x = tf.nn.bias_add(x, F_b)\n",
    "    x = tf.nn.relu(x)\n",
    "    x = tf.nn.max_pool(x, [1, pool_ksize[0], pool_ksize[1], 1], [1, pool_strides[0], pool_strides[1], 1], padding='SAME')\n",
    "    return x\n",
    "\n",
    "\n",
    "\"\"\"\n",
    "DON'T MODIFY ANYTHING IN THIS CELL THAT IS BELOW THIS LINE\n",
    "\"\"\"\n",
    "tests.test_con_pool(conv2d_maxpool)"
   ]
  },
  {
   "cell_type": "markdown",
   "metadata": {},
   "source": [
    "### Flatten Layer\n",
    "Implement the `flatten` function to change the dimension of `x_tensor` from a 4-D tensor to a 2-D tensor.  The output should be the shape (*Batch Size*, *Flattened Image Size*). You can use [TensorFlow Layers](https://www.tensorflow.org/api_docs/python/tf/layers) or [TensorFlow Layers (contrib)](https://www.tensorflow.org/api_guides/python/contrib.layers) for this layer."
   ]
  },
  {
   "cell_type": "code",
   "execution_count": 9,
   "metadata": {
    "collapsed": false
   },
   "outputs": [
    {
     "name": "stdout",
     "output_type": "stream",
     "text": [
      "Tests Passed\n"
     ]
    }
   ],
   "source": [
    "def flatten(x_tensor):\n",
    "    \"\"\"\n",
    "    Flatten x_tensor to (Batch Size, Flattened Image Size)\n",
    "    : x_tensor: A tensor of size (Batch Size, ...), where ... are the image dimensions.\n",
    "    : return: A tensor of size (Batch Size, Flattened Image Size).\n",
    "    \"\"\"\n",
    "    # TODO: Implement Function\n",
    "    # print(tf.contrib.layers.flatten(x_tensor))\n",
    "    return tf.contrib.layers.flatten(x_tensor)\n",
    "\n",
    "\n",
    "\"\"\"\n",
    "DON'T MODIFY ANYTHING IN THIS CELL THAT IS BELOW THIS LINE\n",
    "\"\"\"\n",
    "tests.test_flatten(flatten)"
   ]
  },
  {
   "cell_type": "markdown",
   "metadata": {},
   "source": [
    "### Fully-Connected Layer\n",
    "Implement the `fully_conn` function to apply a fully connected layer to `x_tensor` with the shape (*Batch Size*, *num_outputs*). You can use [TensorFlow Layers](https://www.tensorflow.org/api_docs/python/tf/layers) or [TensorFlow Layers (contrib)](https://www.tensorflow.org/api_guides/python/contrib.layers) for this layer."
   ]
  },
  {
   "cell_type": "code",
   "execution_count": 10,
   "metadata": {
    "collapsed": false
   },
   "outputs": [
    {
     "name": "stdout",
     "output_type": "stream",
     "text": [
      "Tests Passed\n"
     ]
    }
   ],
   "source": [
    "def fully_conn(x_tensor, num_outputs):\n",
    "    \"\"\"\n",
    "    Apply a fully connected layer to x_tensor using weight and bias\n",
    "    : x_tensor: A 2-D tensor where the first dimension is batch size.\n",
    "    : num_outputs: The number of output that the new tensor should be.\n",
    "    : return: A 2-D tensor where the second dimension is num_outputs.\n",
    "    \"\"\"\n",
    "    # TODO: Implement Function\n",
    "    return tf.contrib.layers.fully_connected(x_tensor, num_outputs)\n",
    "\n",
    "\n",
    "\"\"\"\n",
    "DON'T MODIFY ANYTHING IN THIS CELL THAT IS BELOW THIS LINE\n",
    "\"\"\"\n",
    "tests.test_fully_conn(fully_conn)"
   ]
  },
  {
   "cell_type": "markdown",
   "metadata": {},
   "source": [
    "### Output Layer\n",
    "Implement the `output` function to apply a fully connected layer to `x_tensor` with the shape (*Batch Size*, *num_outputs*). You can use [TensorFlow Layers](https://www.tensorflow.org/api_docs/python/tf/layers) or [TensorFlow Layers (contrib)](https://www.tensorflow.org/api_guides/python/contrib.layers) for this layer.\n",
    "\n",
    "Note: Activation, softmax, or cross entropy shouldn't be applied to this."
   ]
  },
  {
   "cell_type": "code",
   "execution_count": 11,
   "metadata": {
    "collapsed": false
   },
   "outputs": [
    {
     "name": "stdout",
     "output_type": "stream",
     "text": [
      "Tests Passed\n"
     ]
    }
   ],
   "source": [
    "def output(x_tensor, num_outputs):\n",
    "    \"\"\"\n",
    "    Apply a output layer to x_tensor using weight and bias\n",
    "    : x_tensor: A 2-D tensor where the first dimension is batch size.\n",
    "    : num_outputs: The number of output that the new tensor should be.\n",
    "    : return: A 2-D tensor where the second dimension is num_outputs.\n",
    "    \"\"\"\n",
    "    # TODO: Implement Function\n",
    "    return tf.contrib.layers.fully_connected(x_tensor, num_outputs)\n",
    "\n",
    "\n",
    "\"\"\"\n",
    "DON'T MODIFY ANYTHING IN THIS CELL THAT IS BELOW THIS LINE\n",
    "\"\"\"\n",
    "tests.test_output(output)"
   ]
  },
  {
   "cell_type": "markdown",
   "metadata": {},
   "source": [
    "### Create Convolutional Model\n",
    "Implement the function `conv_net` to create a convolutional neural network model. The function takes in a batch of images, `x`, and outputs logits.  Use the layers you created above to create this model:\n",
    "\n",
    "* Apply 1, 2, or 3 Convolution and Max Pool layers\n",
    "* Apply a Flatten Layer\n",
    "* Apply 1, 2, or 3 Fully Connected Layers\n",
    "* Apply an Output Layer\n",
    "* Return the output\n",
    "* Apply [TensorFlow's Dropout](https://www.tensorflow.org/api_docs/python/tf/nn/dropout) to one or more layers in the model using `keep_prob`. "
   ]
  },
  {
   "cell_type": "code",
   "execution_count": 38,
   "metadata": {
    "collapsed": false
   },
   "outputs": [
    {
     "name": "stdout",
     "output_type": "stream",
     "text": [
      "Neural Network Built!\n"
     ]
    }
   ],
   "source": [
    "def conv_net(x, keep_prob):\n",
    "    \"\"\"\n",
    "    Create a convolutional neural network model\n",
    "    : x: Placeholder tensor that holds image data.\n",
    "    : keep_prob: Placeholder tensor that hold dropout keep probability.\n",
    "    : return: Tensor that represents logits\n",
    "    :param x_tensor: TensorFlow Tensor\n",
    "    :param conv_num_outputs: Number of outputs for the convolutional layer\n",
    "    :param conv_strides: Stride 2-D Tuple for convolution\n",
    "    :param pool_ksize: kernal size 2-D Tuple for pool\n",
    "    :param pool_strides: Stride 2-D Tuple for pool\n",
    "\n",
    "    \"\"\"\n",
    "\n",
    "    # TODO: Apply 1, 2, or 3 Convolution and Max Pool layers\n",
    "    #    Play around with different number of outputs, kernel size and stride\n",
    "    # Function Definition from Above:\n",
    "    #    conv2d_maxpool(x_tensor, conv_num_outputs, conv_ksize, conv_strides, pool_ksize, pool_strides)\n",
    "    \n",
    "    conv = conv2d_maxpool(x, 5, (3,3), (1,1), (2,2), (2,2)) \n",
    "    conv = conv2d_maxpool(x, 9, (3,3), (1,1), (2,2), (2,2))\n",
    "    conv = conv2d_maxpool(x, 12, (3,3), (1,1), (2,2), (2,2)) \n",
    "\n",
    "    # TODO: Apply a Flatten Layer\n",
    "    # Function Definition from Above:\n",
    "    #   flatten(x_tensor)\n",
    "    conv = flatten(conv)\n",
    "\n",
    "    # TODO: Apply 1, 2, or 3 Fully Connected Layers\n",
    "    #    Play around with different number of outputs\n",
    "    # Function Definition from Above:\n",
    "    #   fully_conn(x_tensor, num_outputs)\n",
    "    \n",
    "    conv = fully_conn(conv, 256)\n",
    "    conv = tf.nn.dropout(conv, keep_prob)\n",
    "    \n",
    "    # TODO: Apply an Output Layer\n",
    "    #    Set this to the number of classes\n",
    "    # Function Definition from Above:\n",
    "    #   output(x_tensor, num_outputs)\n",
    "    conv = output(conv, 10)\n",
    "    \n",
    "    # TODO: return output\n",
    "    return conv\n",
    "\n",
    "\"\"\"\n",
    "DON'T MODIFY ANYTHING IN THIS CELL THAT IS BELOW THIS LINE\n",
    "\"\"\"\n",
    "\n",
    "##############################\n",
    "## Build the Neural Network ##\n",
    "##############################\n",
    "\n",
    "# Remove previous weights, bias, inputs, etc..\n",
    "tf.reset_default_graph()\n",
    "\n",
    "# Inputs\n",
    "x = neural_net_image_input((32, 32, 3))\n",
    "y = neural_net_label_input(10)\n",
    "keep_prob = neural_net_keep_prob_input()\n",
    "\n",
    "# Model\n",
    "logits = conv_net(x, keep_prob)\n",
    "\n",
    "# Name logits Tensor, so that is can be loaded from disk after training\n",
    "logits = tf.identity(logits, name='logits')\n",
    "\n",
    "# Loss and Optimizer\n",
    "cost = tf.reduce_mean(tf.nn.softmax_cross_entropy_with_logits(logits=logits, labels=y))\n",
    "optimizer = tf.train.AdamOptimizer().minimize(cost)\n",
    "\n",
    "# Accuracy\n",
    "correct_pred = tf.equal(tf.argmax(logits, 1), tf.argmax(y, 1))\n",
    "accuracy = tf.reduce_mean(tf.cast(correct_pred, tf.float32), name='accuracy')\n",
    "\n",
    "tests.test_conv_net(conv_net)"
   ]
  },
  {
   "cell_type": "markdown",
   "metadata": {},
   "source": [
    "## Train the Neural Network\n",
    "### Single Optimization\n",
    "Implement the function `train_neural_network` to do a single optimization.  The optimization should use `optimizer` to optimize in `session` with a `feed_dict` of the following:\n",
    "* `x` for image input\n",
    "* `y` for labels\n",
    "* `keep_prob` for keep probability for dropout\n",
    "\n",
    "This function will be called for each batch, so `tf.global_variables_initializer()` has already been called.\n",
    "\n",
    "Note: Nothing needs to be returned. This function is only optimizing the neural network."
   ]
  },
  {
   "cell_type": "code",
   "execution_count": 39,
   "metadata": {
    "collapsed": false
   },
   "outputs": [
    {
     "name": "stdout",
     "output_type": "stream",
     "text": [
      "Tests Passed\n"
     ]
    }
   ],
   "source": [
    "def train_neural_network(session, optimizer, keep_probability, feature_batch, label_batch):\n",
    "    \"\"\"\n",
    "    Optimize the session on a batch of images and labels\n",
    "    : session: Current TensorFlow session\n",
    "    : optimizer: TensorFlow optimizer function\n",
    "    : keep_probability: keep probability\n",
    "    : feature_batch: Batch of Numpy image data\n",
    "    : label_batch: Batch of Numpy label data\n",
    "    \"\"\"\n",
    "    # TODO: Implement Function\n",
    "    session.run(optimizer, feed_dict={\n",
    "        x: feature_batch,\n",
    "        y: label_batch,\n",
    "        keep_prob: keep_probability})\n",
    "\n",
    "\n",
    "\"\"\"\n",
    "DON'T MODIFY ANYTHING IN THIS CELL THAT IS BELOW THIS LINE\n",
    "\"\"\"\n",
    "tests.test_train_nn(train_neural_network)"
   ]
  },
  {
   "cell_type": "markdown",
   "metadata": {},
   "source": [
    "### Show Stats\n",
    "Implement the function `print_stats` to print loss and validation accuracy.  Use the global variables `valid_features` and `valid_labels` to calculate validation accuracy.  Use a keep probability of `1.0` to calculate the loss and validation accuracy."
   ]
  },
  {
   "cell_type": "code",
   "execution_count": 40,
   "metadata": {
    "collapsed": false
   },
   "outputs": [],
   "source": [
    "def print_stats(session, feature_batch, label_batch, cost, accuracy):\n",
    "    \"\"\"\n",
    "    Print information about loss and validation accuracy\n",
    "    : session: Current TensorFlow session\n",
    "    : feature_batch: Batch of Numpy image data\n",
    "    : label_batch: Batch of Numpy label data\n",
    "    : cost: TensorFlow cost function\n",
    "    : accuracy: TensorFlow accuracy function\n",
    "    \"\"\"\n",
    "    # TODO: Implement Function\n",
    "    \n",
    "    loss_feed_dict = {\n",
    "        x: feature_batch,\n",
    "        y: label_batch,\n",
    "        keep_prob: 1.}\n",
    "    \n",
    "    val_feed_dict = {\n",
    "        x: valid_features,\n",
    "        y: valid_labels,\n",
    "        keep_prob: 1.}\n",
    "    \n",
    "    loss = session.run(cost, feed_dict=loss_feed_dict)\n",
    "    valid_acc = session.run(accuracy, feed_dict=val_feed_dict)\n",
    "\n",
    "    print('Loss: {:>10.6} Validation Accuracy: {:.6f}'.format(\n",
    "        loss,\n",
    "        valid_acc))"
   ]
  },
  {
   "cell_type": "markdown",
   "metadata": {},
   "source": [
    "### Hyperparameters\n",
    "Tune the following parameters:\n",
    "* Set `epochs` to the number of iterations until the network stops learning or start overfitting\n",
    "* Set `batch_size` to the highest number that your machine has memory for.  Most people set them to common sizes of memory:\n",
    " * 64\n",
    " * 128\n",
    " * 256\n",
    " * ...\n",
    "* Set `keep_probability` to the probability of keeping a node using dropout"
   ]
  },
  {
   "cell_type": "code",
   "execution_count": 41,
   "metadata": {
    "collapsed": true
   },
   "outputs": [],
   "source": [
    "# TODO: Tune Parameters\n",
    "epochs = 20\n",
    "batch_size = 256\n",
    "keep_probability = 0.70"
   ]
  },
  {
   "cell_type": "markdown",
   "metadata": {},
   "source": [
    "### Train on a Single CIFAR-10 Batch\n",
    "Instead of training the neural network on all the CIFAR-10 batches of data, let's use a single batch. This should save time while you iterate on the model to get a better accuracy.  Once the final validation accuracy is 50% or greater, run the model on all the data in the next section."
   ]
  },
  {
   "cell_type": "code",
   "execution_count": 42,
   "metadata": {
    "collapsed": false
   },
   "outputs": [
    {
     "name": "stdout",
     "output_type": "stream",
     "text": [
      "Checking the Training on a Single Batch...\n",
      "Epoch  1, CIFAR-10 Batch 1:  Loss:    2.17628 Validation Accuracy: 0.320400\n",
      "Epoch  2, CIFAR-10 Batch 1:  Loss:    2.01425 Validation Accuracy: 0.388800\n",
      "Epoch  3, CIFAR-10 Batch 1:  Loss:    1.81735 Validation Accuracy: 0.418600\n",
      "Epoch  4, CIFAR-10 Batch 1:  Loss:     1.6122 Validation Accuracy: 0.438200\n",
      "Epoch  5, CIFAR-10 Batch 1:  Loss:    1.43044 Validation Accuracy: 0.454400\n",
      "Epoch  6, CIFAR-10 Batch 1:  Loss:    1.26416 Validation Accuracy: 0.466600\n",
      "Epoch  7, CIFAR-10 Batch 1:  Loss:    1.13851 Validation Accuracy: 0.472000\n",
      "Epoch  8, CIFAR-10 Batch 1:  Loss:     1.0664 Validation Accuracy: 0.482600\n",
      "Epoch  9, CIFAR-10 Batch 1:  Loss:   0.970914 Validation Accuracy: 0.489200\n",
      "Epoch 10, CIFAR-10 Batch 1:  Loss:   0.940547 Validation Accuracy: 0.491200\n",
      "Epoch 11, CIFAR-10 Batch 1:  Loss:   0.875743 Validation Accuracy: 0.504600\n",
      "Epoch 12, CIFAR-10 Batch 1:  Loss:   0.835825 Validation Accuracy: 0.504200\n",
      "Epoch 13, CIFAR-10 Batch 1:  Loss:   0.631573 Validation Accuracy: 0.520600\n",
      "Epoch 14, CIFAR-10 Batch 1:  Loss:   0.583322 Validation Accuracy: 0.528200\n",
      "Epoch 15, CIFAR-10 Batch 1:  Loss:   0.526672 Validation Accuracy: 0.528000\n",
      "Epoch 16, CIFAR-10 Batch 1:  Loss:   0.488022 Validation Accuracy: 0.527000\n",
      "Epoch 17, CIFAR-10 Batch 1:  Loss:    0.45782 Validation Accuracy: 0.530200\n",
      "Epoch 18, CIFAR-10 Batch 1:  Loss:    0.41842 Validation Accuracy: 0.531800\n",
      "Epoch 19, CIFAR-10 Batch 1:  Loss:    0.42172 Validation Accuracy: 0.528000\n",
      "Epoch 20, CIFAR-10 Batch 1:  Loss:   0.364082 Validation Accuracy: 0.537400\n"
     ]
    }
   ],
   "source": [
    "\"\"\"\n",
    "DON'T MODIFY ANYTHING IN THIS CELL\n",
    "\"\"\"\n",
    "print('Checking the Training on a Single Batch...')\n",
    "with tf.Session() as sess:\n",
    "    # Initializing the variables\n",
    "    sess.run(tf.global_variables_initializer())\n",
    "    \n",
    "    # Training cycle\n",
    "    for epoch in range(epochs):\n",
    "        batch_i = 1\n",
    "        for batch_features, batch_labels in helper.load_preprocess_training_batch(batch_i, batch_size):\n",
    "            train_neural_network(sess, optimizer, keep_probability, batch_features, batch_labels)\n",
    "        print('Epoch {:>2}, CIFAR-10 Batch {}:  '.format(epoch + 1, batch_i), end='')\n",
    "        print_stats(sess, batch_features, batch_labels, cost, accuracy)"
   ]
  },
  {
   "cell_type": "markdown",
   "metadata": {},
   "source": [
    "### Fully Train the Model\n",
    "Now that you got a good accuracy with a single CIFAR-10 batch, try it with all five batches."
   ]
  },
  {
   "cell_type": "code",
   "execution_count": 43,
   "metadata": {
    "collapsed": false
   },
   "outputs": [
    {
     "name": "stdout",
     "output_type": "stream",
     "text": [
      "Training...\n",
      "Epoch  1, CIFAR-10 Batch 1:  Loss:    2.28375 Validation Accuracy: 0.159400\n",
      "Epoch  1, CIFAR-10 Batch 2:  Loss:    2.16332 Validation Accuracy: 0.255400\n",
      "Epoch  1, CIFAR-10 Batch 3:  Loss:    1.91569 Validation Accuracy: 0.318000\n",
      "Epoch  1, CIFAR-10 Batch 4:  Loss:    2.04276 Validation Accuracy: 0.347600\n",
      "Epoch  1, CIFAR-10 Batch 5:  Loss:    1.99343 Validation Accuracy: 0.369200\n",
      "Epoch  2, CIFAR-10 Batch 1:  Loss:    1.80717 Validation Accuracy: 0.389600\n",
      "Epoch  2, CIFAR-10 Batch 2:  Loss:    1.78423 Validation Accuracy: 0.413400\n",
      "Epoch  2, CIFAR-10 Batch 3:  Loss:    1.32787 Validation Accuracy: 0.450600\n",
      "Epoch  2, CIFAR-10 Batch 4:  Loss:     1.5915 Validation Accuracy: 0.464400\n",
      "Epoch  2, CIFAR-10 Batch 5:  Loss:    1.44217 Validation Accuracy: 0.496800\n",
      "Epoch  3, CIFAR-10 Batch 1:  Loss:    1.56138 Validation Accuracy: 0.502400\n",
      "Epoch  3, CIFAR-10 Batch 2:  Loss:    1.31378 Validation Accuracy: 0.517600\n",
      "Epoch  3, CIFAR-10 Batch 3:  Loss:    1.11217 Validation Accuracy: 0.526200\n",
      "Epoch  3, CIFAR-10 Batch 4:  Loss:    1.34185 Validation Accuracy: 0.532200\n",
      "Epoch  3, CIFAR-10 Batch 5:  Loss:    1.22171 Validation Accuracy: 0.540200\n",
      "Epoch  4, CIFAR-10 Batch 1:  Loss:    1.38371 Validation Accuracy: 0.536000\n",
      "Epoch  4, CIFAR-10 Batch 2:  Loss:    1.15886 Validation Accuracy: 0.545000\n",
      "Epoch  4, CIFAR-10 Batch 3:  Loss:   0.828518 Validation Accuracy: 0.562200\n",
      "Epoch  4, CIFAR-10 Batch 4:  Loss:   0.950923 Validation Accuracy: 0.569000\n",
      "Epoch  4, CIFAR-10 Batch 5:  Loss:   0.994471 Validation Accuracy: 0.576200\n",
      "Epoch  5, CIFAR-10 Batch 1:  Loss:    1.14625 Validation Accuracy: 0.576800\n",
      "Epoch  5, CIFAR-10 Batch 2:  Loss:   0.773927 Validation Accuracy: 0.577000\n",
      "Epoch  5, CIFAR-10 Batch 3:  Loss:   0.657415 Validation Accuracy: 0.582600\n",
      "Epoch  5, CIFAR-10 Batch 4:  Loss:   0.828616 Validation Accuracy: 0.587400\n",
      "Epoch  5, CIFAR-10 Batch 5:  Loss:   0.829695 Validation Accuracy: 0.591600\n",
      "Epoch  6, CIFAR-10 Batch 1:  Loss:   0.996204 Validation Accuracy: 0.591400\n",
      "Epoch  6, CIFAR-10 Batch 2:  Loss:   0.648409 Validation Accuracy: 0.599800\n",
      "Epoch  6, CIFAR-10 Batch 3:  Loss:   0.554317 Validation Accuracy: 0.593400\n",
      "Epoch  6, CIFAR-10 Batch 4:  Loss:   0.725708 Validation Accuracy: 0.605800\n",
      "Epoch  6, CIFAR-10 Batch 5:  Loss:   0.680919 Validation Accuracy: 0.601800\n",
      "Epoch  7, CIFAR-10 Batch 1:  Loss:   0.859683 Validation Accuracy: 0.609200\n",
      "Epoch  7, CIFAR-10 Batch 2:  Loss:   0.526569 Validation Accuracy: 0.609800\n",
      "Epoch  7, CIFAR-10 Batch 3:  Loss:   0.507027 Validation Accuracy: 0.605200\n",
      "Epoch  7, CIFAR-10 Batch 4:  Loss:   0.619331 Validation Accuracy: 0.610000\n",
      "Epoch  7, CIFAR-10 Batch 5:  Loss:   0.597492 Validation Accuracy: 0.596800\n",
      "Epoch  8, CIFAR-10 Batch 1:  Loss:   0.747031 Validation Accuracy: 0.610800\n",
      "Epoch  8, CIFAR-10 Batch 2:  Loss:   0.456065 Validation Accuracy: 0.618400\n",
      "Epoch  8, CIFAR-10 Batch 3:  Loss:   0.434138 Validation Accuracy: 0.611000\n",
      "Epoch  8, CIFAR-10 Batch 4:  Loss:   0.542757 Validation Accuracy: 0.625400\n",
      "Epoch  8, CIFAR-10 Batch 5:  Loss:   0.504734 Validation Accuracy: 0.615600\n",
      "Epoch  9, CIFAR-10 Batch 1:  Loss:   0.670419 Validation Accuracy: 0.624400\n",
      "Epoch  9, CIFAR-10 Batch 2:  Loss:    0.40055 Validation Accuracy: 0.623800\n",
      "Epoch  9, CIFAR-10 Batch 3:  Loss:   0.401272 Validation Accuracy: 0.615600\n",
      "Epoch  9, CIFAR-10 Batch 4:  Loss:   0.464325 Validation Accuracy: 0.628200\n",
      "Epoch  9, CIFAR-10 Batch 5:  Loss:   0.459743 Validation Accuracy: 0.627800\n",
      "Epoch 10, CIFAR-10 Batch 1:  Loss:   0.623279 Validation Accuracy: 0.615800\n",
      "Epoch 10, CIFAR-10 Batch 2:  Loss:   0.364292 Validation Accuracy: 0.635000\n",
      "Epoch 10, CIFAR-10 Batch 3:  Loss:   0.338052 Validation Accuracy: 0.623600\n",
      "Epoch 10, CIFAR-10 Batch 4:  Loss:    0.41033 Validation Accuracy: 0.632200\n",
      "Epoch 10, CIFAR-10 Batch 5:  Loss:   0.378497 Validation Accuracy: 0.635800\n",
      "Epoch 11, CIFAR-10 Batch 1:  Loss:   0.532227 Validation Accuracy: 0.630000\n",
      "Epoch 11, CIFAR-10 Batch 2:  Loss:   0.317684 Validation Accuracy: 0.636000\n",
      "Epoch 11, CIFAR-10 Batch 3:  Loss:   0.302616 Validation Accuracy: 0.639000\n",
      "Epoch 11, CIFAR-10 Batch 4:  Loss:   0.367953 Validation Accuracy: 0.638600\n",
      "Epoch 11, CIFAR-10 Batch 5:  Loss:   0.351141 Validation Accuracy: 0.631600\n",
      "Epoch 12, CIFAR-10 Batch 1:  Loss:   0.530038 Validation Accuracy: 0.633600\n",
      "Epoch 12, CIFAR-10 Batch 2:  Loss:   0.300001 Validation Accuracy: 0.632800\n",
      "Epoch 12, CIFAR-10 Batch 3:  Loss:   0.274269 Validation Accuracy: 0.630400\n",
      "Epoch 12, CIFAR-10 Batch 4:  Loss:   0.321858 Validation Accuracy: 0.640000\n",
      "Epoch 12, CIFAR-10 Batch 5:  Loss:   0.297953 Validation Accuracy: 0.640200\n",
      "Epoch 13, CIFAR-10 Batch 1:  Loss:   0.493364 Validation Accuracy: 0.633400\n",
      "Epoch 13, CIFAR-10 Batch 2:  Loss:    0.26194 Validation Accuracy: 0.623600\n",
      "Epoch 13, CIFAR-10 Batch 3:  Loss:    0.25124 Validation Accuracy: 0.639400\n",
      "Epoch 13, CIFAR-10 Batch 4:  Loss:   0.304342 Validation Accuracy: 0.638400\n",
      "Epoch 13, CIFAR-10 Batch 5:  Loss:    0.25887 Validation Accuracy: 0.642000\n",
      "Epoch 14, CIFAR-10 Batch 1:  Loss:   0.429644 Validation Accuracy: 0.643400\n",
      "Epoch 14, CIFAR-10 Batch 2:  Loss:   0.251407 Validation Accuracy: 0.615400\n",
      "Epoch 14, CIFAR-10 Batch 3:  Loss:    0.22474 Validation Accuracy: 0.643800\n",
      "Epoch 14, CIFAR-10 Batch 4:  Loss:   0.261094 Validation Accuracy: 0.654600\n",
      "Epoch 14, CIFAR-10 Batch 5:  Loss:   0.241457 Validation Accuracy: 0.635400\n",
      "Epoch 15, CIFAR-10 Batch 1:  Loss:   0.368251 Validation Accuracy: 0.643400\n",
      "Epoch 15, CIFAR-10 Batch 2:  Loss:   0.229749 Validation Accuracy: 0.612800\n",
      "Epoch 15, CIFAR-10 Batch 3:  Loss:   0.215917 Validation Accuracy: 0.643000\n",
      "Epoch 15, CIFAR-10 Batch 4:  Loss:    0.22855 Validation Accuracy: 0.646200\n",
      "Epoch 15, CIFAR-10 Batch 5:  Loss:   0.193059 Validation Accuracy: 0.646800\n",
      "Epoch 16, CIFAR-10 Batch 1:  Loss:   0.338444 Validation Accuracy: 0.642600\n",
      "Epoch 16, CIFAR-10 Batch 2:  Loss:   0.188109 Validation Accuracy: 0.615600\n",
      "Epoch 16, CIFAR-10 Batch 3:  Loss:   0.209858 Validation Accuracy: 0.623200\n",
      "Epoch 16, CIFAR-10 Batch 4:  Loss:   0.212087 Validation Accuracy: 0.655000\n",
      "Epoch 16, CIFAR-10 Batch 5:  Loss:   0.183365 Validation Accuracy: 0.639200\n",
      "Epoch 17, CIFAR-10 Batch 1:  Loss:   0.304882 Validation Accuracy: 0.650400\n",
      "Epoch 17, CIFAR-10 Batch 2:  Loss:   0.179907 Validation Accuracy: 0.626000\n",
      "Epoch 17, CIFAR-10 Batch 3:  Loss:    0.18751 Validation Accuracy: 0.629800\n",
      "Epoch 17, CIFAR-10 Batch 4:  Loss:   0.199694 Validation Accuracy: 0.655800\n",
      "Epoch 17, CIFAR-10 Batch 5:  Loss:   0.156238 Validation Accuracy: 0.653000\n",
      "Epoch 18, CIFAR-10 Batch 1:  Loss:   0.287741 Validation Accuracy: 0.653800\n",
      "Epoch 18, CIFAR-10 Batch 2:  Loss:   0.153254 Validation Accuracy: 0.631400\n",
      "Epoch 18, CIFAR-10 Batch 3:  Loss:   0.165281 Validation Accuracy: 0.637600\n",
      "Epoch 18, CIFAR-10 Batch 4:  Loss:   0.178838 Validation Accuracy: 0.657600\n",
      "Epoch 18, CIFAR-10 Batch 5:  Loss:   0.144054 Validation Accuracy: 0.651200\n",
      "Epoch 19, CIFAR-10 Batch 1:  Loss:   0.228371 Validation Accuracy: 0.645600\n",
      "Epoch 19, CIFAR-10 Batch 2:  Loss:   0.123984 Validation Accuracy: 0.641200\n",
      "Epoch 19, CIFAR-10 Batch 3:  Loss:   0.155236 Validation Accuracy: 0.636600\n",
      "Epoch 19, CIFAR-10 Batch 4:  Loss:   0.155823 Validation Accuracy: 0.646600\n",
      "Epoch 19, CIFAR-10 Batch 5:  Loss:   0.114922 Validation Accuracy: 0.654600\n",
      "Epoch 20, CIFAR-10 Batch 1:  Loss:   0.205097 Validation Accuracy: 0.646800\n",
      "Epoch 20, CIFAR-10 Batch 2:  Loss:   0.133201 Validation Accuracy: 0.632400\n",
      "Epoch 20, CIFAR-10 Batch 3:  Loss:   0.158879 Validation Accuracy: 0.627000\n",
      "Epoch 20, CIFAR-10 Batch 4:  Loss:   0.136533 Validation Accuracy: 0.657200\n",
      "Epoch 20, CIFAR-10 Batch 5:  Loss:   0.115416 Validation Accuracy: 0.655800\n"
     ]
    }
   ],
   "source": [
    "\"\"\"\n",
    "DON'T MODIFY ANYTHING IN THIS CELL\n",
    "\"\"\"\n",
    "save_model_path = './image_classification'\n",
    "\n",
    "print('Training...')\n",
    "with tf.Session() as sess:\n",
    "    # Initializing the variables\n",
    "    sess.run(tf.global_variables_initializer())\n",
    "    \n",
    "    # Training cycle\n",
    "    for epoch in range(epochs):\n",
    "        # Loop over all batches\n",
    "        n_batches = 5\n",
    "        for batch_i in range(1, n_batches + 1):\n",
    "            for batch_features, batch_labels in helper.load_preprocess_training_batch(batch_i, batch_size):\n",
    "                train_neural_network(sess, optimizer, keep_probability, batch_features, batch_labels)\n",
    "            print('Epoch {:>2}, CIFAR-10 Batch {}:  '.format(epoch + 1, batch_i), end='')\n",
    "            print_stats(sess, batch_features, batch_labels, cost, accuracy)\n",
    "            \n",
    "    # Save Model\n",
    "    saver = tf.train.Saver()\n",
    "    save_path = saver.save(sess, save_model_path)"
   ]
  },
  {
   "cell_type": "markdown",
   "metadata": {},
   "source": [
    "# Checkpoint\n",
    "The model has been saved to disk.\n",
    "## Test Model\n",
    "Test your model against the test dataset.  This will be your final accuracy. You should have an accuracy greater than 50%. If you don't, keep tweaking the model architecture and parameters."
   ]
  },
  {
   "cell_type": "code",
   "execution_count": 44,
   "metadata": {
    "collapsed": false
   },
   "outputs": [
    {
     "name": "stdout",
     "output_type": "stream",
     "text": [
      "Testing Accuracy: 0.65048828125\n",
      "\n"
     ]
    },
    {
     "data": {
      "image/png": "[encoded data removed]",
      "text/plain": [
       "<matplotlib.figure.Figure at 0x7f14e4555860>"
      ]
     },
     "metadata": {
      "image/png": {
       "height": 319,
       "width": 355
      }
     },
     "output_type": "display_data"
    }
   ],
   "source": [
    "\"\"\"\n",
    "DON'T MODIFY ANYTHING IN THIS CELL\n",
    "\"\"\"\n",
    "%matplotlib inline\n",
    "%config InlineBackend.figure_format = 'retina'\n",
    "\n",
    "import tensorflow as tf\n",
    "import pickle\n",
    "import helper\n",
    "import random\n",
    "\n",
    "# Set batch size if not already set\n",
    "try:\n",
    "    if batch_size:\n",
    "        pass\n",
    "except NameError:\n",
    "    batch_size = 64\n",
    "\n",
    "save_model_path = './image_classification'\n",
    "n_samples = 4\n",
    "top_n_predictions = 3\n",
    "\n",
    "def test_model():\n",
    "    \"\"\"\n",
    "    Test the saved model against the test dataset\n",
    "    \"\"\"\n",
    "\n",
    "    test_features, test_labels = pickle.load(open('preprocess_training.p', mode='rb'))\n",
    "    loaded_graph = tf.Graph()\n",
    "\n",
    "    with tf.Session(graph=loaded_graph) as sess:\n",
    "        # Load model\n",
    "        loader = tf.train.import_meta_graph(save_model_path + '.meta')\n",
    "        loader.restore(sess, save_model_path)\n",
    "\n",
    "        # Get Tensors from loaded model\n",
    "        loaded_x = loaded_graph.get_tensor_by_name('x:0')\n",
    "        loaded_y = loaded_graph.get_tensor_by_name('y:0')\n",
    "        loaded_keep_prob = loaded_graph.get_tensor_by_name('keep_prob:0')\n",
    "        loaded_logits = loaded_graph.get_tensor_by_name('logits:0')\n",
    "        loaded_acc = loaded_graph.get_tensor_by_name('accuracy:0')\n",
    "        \n",
    "        # Get accuracy in batches for memory limitations\n",
    "        test_batch_acc_total = 0\n",
    "        test_batch_count = 0\n",
    "        \n",
    "        for train_feature_batch, train_label_batch in helper.batch_features_labels(test_features, test_labels, batch_size):\n",
    "            test_batch_acc_total += sess.run(\n",
    "                loaded_acc,\n",
    "                feed_dict={loaded_x: train_feature_batch, loaded_y: train_label_batch, loaded_keep_prob: 1.0})\n",
    "            test_batch_count += 1\n",
    "\n",
    "        print('Testing Accuracy: {}\\n'.format(test_batch_acc_total/test_batch_count))\n",
    "\n",
    "        # Print Random Samples\n",
    "        random_test_features, random_test_labels = tuple(zip(*random.sample(list(zip(test_features, test_labels)), n_samples)))\n",
    "        random_test_predictions = sess.run(\n",
    "            tf.nn.top_k(tf.nn.softmax(loaded_logits), top_n_predictions),\n",
    "            feed_dict={loaded_x: random_test_features, loaded_y: random_test_labels, loaded_keep_prob: 1.0})\n",
    "        helper.display_image_predictions(random_test_features, random_test_labels, random_test_predictions)\n",
    "\n",
    "\n",
    "test_model()"
   ]
  },
  {
   "cell_type": "markdown",
   "metadata": {},
   "source": [
    "## Why 50-70% Accuracy?\n",
    "You might be wondering why you can't get an accuracy any higher. First things first, 50% isn't bad for a simple CNN.  Pure guessing would get you 10% accuracy. However, you might notice people are getting scores [well above 70%](http://rodrigob.github.io/are_we_there_yet/build/classification_datasets_results.html#43494641522d3130).  That's because we haven't taught you all there is to know about neural networks. We still need to cover a few more techniques.\n",
    "## Submitting This Project\n",
    "When submitting this project, make sure to run all the cells before saving the notebook.  Save the notebook file as \"dlnd_image_classification.ipynb\" and save it as a HTML file under \"File\" -> \"Download as\".  Include the \"helper.py\" and \"problem_unittests.py\" files in your submission."
   ]
  }
 ],
 "metadata": {
  "kernelspec": {
   "display_name": "Python 3",
   "language": "python",
   "name": "python3"
  },
  "language_info": {
   "codemirror_mode": {
    "name": "ipython",
    "version": 3
   },
   "file_extension": ".py",
   "mimetype": "text/x-python",
   "name": "python",
   "nbconvert_exporter": "python",
   "pygments_lexer": "ipython3",
   "version": "3.5.3"
  }
 },
 "nbformat": 4,
 "nbformat_minor": 0
}
